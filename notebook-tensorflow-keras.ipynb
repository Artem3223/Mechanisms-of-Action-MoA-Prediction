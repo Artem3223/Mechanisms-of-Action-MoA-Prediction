{
 "cells": [
  {
   "cell_type": "code",
   "execution_count": 1,
   "metadata": {
    "_cell_guid": "b1076dfc-b9ad-4769-8c92-a6c4dae69d19",
    "_uuid": "8f2839f25d086af736a60e9eeb907d3b93b6e0e5",
    "execution": {
     "iopub.execute_input": "2020-11-14T09:51:21.204445Z",
     "iopub.status.busy": "2020-11-14T09:51:21.203467Z",
     "iopub.status.idle": "2020-11-14T09:51:21.208969Z",
     "shell.execute_reply": "2020-11-14T09:51:21.209856Z"
    },
    "papermill": {
     "duration": 0.024565,
     "end_time": "2020-11-14T09:51:21.210086",
     "exception": false,
     "start_time": "2020-11-14T09:51:21.185521",
     "status": "completed"
    },
    "tags": []
   },
   "outputs": [
    {
     "name": "stdout",
     "output_type": "stream",
     "text": [
      "/kaggle/input/lish-moa/test_features.csv\n",
      "/kaggle/input/lish-moa/sample_submission.csv\n",
      "/kaggle/input/lish-moa/train_drug.csv\n",
      "/kaggle/input/lish-moa/train_features.csv\n",
      "/kaggle/input/lish-moa/train_targets_scored.csv\n",
      "/kaggle/input/lish-moa/train_targets_nonscored.csv\n"
     ]
    }
   ],
   "source": [
    "# This Python 3 environment comes with many helpful analytics libraries installed\n",
    "# It is defined by the kaggle/python Docker image: https://github.com/kaggle/docker-python\n",
    "# For example, here's several helpful packages to load\n",
    "\n",
    "import numpy as np # linear algebra\n",
    "import pandas as pd # data processing, CSV file I/O (e.g. pd.read_csv)\n",
    "\n",
    "# Input data files are available in the read-only \"../input/\" directory\n",
    "# For example, running this (by clicking run or pressing Shift+Enter) will list all files under the input directory\n",
    "\n",
    "import os\n",
    "for dirname, _, filenames in os.walk('/kaggle/input'):\n",
    "    for filename in filenames:\n",
    "        print(os.path.join(dirname, filename))\n",
    "\n",
    "# You can write up to 5GB to the current directory (/kaggle/working/) that gets preserved as output when you create a version using \"Save & Run All\" \n",
    "# You can also write temporary files to /kaggle/temp/, but they won't be saved outside of the current session"
   ]
  },
  {
   "cell_type": "code",
   "execution_count": 2,
   "metadata": {
    "_kg_hide-output": true,
    "execution": {
     "iopub.execute_input": "2020-11-14T09:51:21.234689Z",
     "iopub.status.busy": "2020-11-14T09:51:21.233754Z",
     "iopub.status.idle": "2020-11-14T09:51:30.679401Z",
     "shell.execute_reply": "2020-11-14T09:51:30.678817Z"
    },
    "papermill": {
     "duration": 9.457153,
     "end_time": "2020-11-14T09:51:30.679557",
     "exception": false,
     "start_time": "2020-11-14T09:51:21.222404",
     "status": "completed"
    },
    "tags": []
   },
   "outputs": [
    {
     "name": "stdout",
     "output_type": "stream",
     "text": [
      "Collecting iterative-stratification\r\n",
      "  Downloading iterative_stratification-0.1.6-py3-none-any.whl (8.7 kB)\r\n",
      "Requirement already satisfied: scipy in /opt/conda/lib/python3.7/site-packages (from iterative-stratification) (1.4.1)\r\n",
      "Requirement already satisfied: scikit-learn in /opt/conda/lib/python3.7/site-packages (from iterative-stratification) (0.23.2)\r\n",
      "Requirement already satisfied: numpy in /opt/conda/lib/python3.7/site-packages (from iterative-stratification) (1.18.5)\r\n",
      "Requirement already satisfied: joblib>=0.11 in /opt/conda/lib/python3.7/site-packages (from scikit-learn->iterative-stratification) (0.14.1)\r\n",
      "Requirement already satisfied: threadpoolctl>=2.0.0 in /opt/conda/lib/python3.7/site-packages (from scikit-learn->iterative-stratification) (2.1.0)\r\n",
      "Installing collected packages: iterative-stratification\r\n",
      "Successfully installed iterative-stratification-0.1.6\r\n"
     ]
    }
   ],
   "source": [
    "!pip install iterative-stratification"
   ]
  },
  {
   "cell_type": "code",
   "execution_count": 3,
   "metadata": {
    "execution": {
     "iopub.execute_input": "2020-11-14T09:51:30.712986Z",
     "iopub.status.busy": "2020-11-14T09:51:30.712173Z",
     "iopub.status.idle": "2020-11-14T09:51:37.471099Z",
     "shell.execute_reply": "2020-11-14T09:51:37.470018Z"
    },
    "papermill": {
     "duration": 6.778811,
     "end_time": "2020-11-14T09:51:37.471249",
     "exception": false,
     "start_time": "2020-11-14T09:51:30.692438",
     "status": "completed"
    },
    "tags": []
   },
   "outputs": [
    {
     "name": "stderr",
     "output_type": "stream",
     "text": [
      "/opt/conda/lib/python3.7/site-packages/tensorflow_addons/utils/ensure_tf_install.py:68: UserWarning: Tensorflow Addons supports using Python ops for all Tensorflow versions above or equal to 2.2.0 and strictly below 2.3.0 (nightly versions are not supported). \n",
      " The versions of TensorFlow you are currently using is 2.3.1 and is not supported. \n",
      "Some things might work, some things might not.\n",
      "If you were to encounter a bug, do not file an issue.\n",
      "If you want to make sure you're using a tested and supported configuration, either change the TensorFlow version or the TensorFlow Addons's version. \n",
      "You can find the compatibility matrix in TensorFlow Addon's readme:\n",
      "https://github.com/tensorflow/addons\n",
      "  UserWarning,\n"
     ]
    }
   ],
   "source": [
    "import os\n",
    "import pandas as pd\n",
    "import numpy as np\n",
    "import tensorflow as tf\n",
    "from tensorflow.keras.optimizers import RMSprop,Adam\n",
    "import tensorflow_addons as tfa\n",
    "from tensorflow import keras\n",
    "import matplotlib.pyplot as plt\n",
    "from sklearn.model_selection import KFold\n",
    "from sklearn import preprocessing\n",
    "from sklearn.decomposition import PCA\n",
    "from sklearn.metrics import confusion_matrix\n",
    "from sklearn.feature_selection import VarianceThreshold\n",
    "from tensorflow.keras import layers,regularizers,Sequential,Model,backend,callbacks,optimizers,metrics,losses\n",
    "import tensorflow as tf\n",
    "import sys\n",
    "import warnings\n",
    "warnings.filterwarnings('ignore')\n",
    "sys.path.append('../input/iterativestratification/iterative_stratification-0.1.6-py3-none-any.whl')\n",
    "from iterstrat.ml_stratifiers import MultilabelStratifiedKFold"
   ]
  },
  {
   "cell_type": "code",
   "execution_count": 4,
   "metadata": {
    "execution": {
     "iopub.execute_input": "2020-11-14T09:51:37.507427Z",
     "iopub.status.busy": "2020-11-14T09:51:37.506519Z",
     "iopub.status.idle": "2020-11-14T09:51:42.903215Z",
     "shell.execute_reply": "2020-11-14T09:51:42.901756Z"
    },
    "papermill": {
     "duration": 5.41894,
     "end_time": "2020-11-14T09:51:42.903339",
     "exception": false,
     "start_time": "2020-11-14T09:51:37.484399",
     "status": "completed"
    },
    "tags": []
   },
   "outputs": [],
   "source": [
    "df = pd.read_csv('/kaggle/input/lish-moa/train_features.csv')\n",
    "non_ctl_idx = df.loc[df['cp_type']!='ctl_vehicle'].index.to_list()\n",
    "df = df.drop(['sig_id','cp_type','cp_dose','cp_time'],axis=1)\n",
    "data_X_test = pd.read_csv('/kaggle/input/lish-moa/test_features.csv')\n",
    "data_X_test = data_X_test.drop(['sig_id','cp_dose','cp_time'],axis=1)\n",
    "\n",
    "dada = pd.read_csv('/kaggle/input/lish-moa/train_targets_scored.csv')\n",
    "dada = dada.drop('sig_id',axis=1)\n",
    "df_label = dada.values\n",
    "df = df.iloc[non_ctl_idx]\n",
    "df_label = df_label[non_ctl_idx]"
   ]
  },
  {
   "cell_type": "code",
   "execution_count": 5,
   "metadata": {
    "execution": {
     "iopub.execute_input": "2020-11-14T09:51:42.942775Z",
     "iopub.status.busy": "2020-11-14T09:51:42.942156Z",
     "iopub.status.idle": "2020-11-14T09:51:42.946602Z",
     "shell.execute_reply": "2020-11-14T09:51:42.945955Z"
    },
    "papermill": {
     "duration": 0.031192,
     "end_time": "2020-11-14T09:51:42.946709",
     "exception": false,
     "start_time": "2020-11-14T09:51:42.915517",
     "status": "completed"
    },
    "tags": []
   },
   "outputs": [],
   "source": [
    "cs = df.columns.str.contains('c-')\n",
    "gs = df.columns.str.contains('g-')\n",
    "\n",
    "def preprocessor(train,test):\n",
    "    \n",
    "    \n",
    "    n_gs = 2 \n",
    "    n_cs = 100 \n",
    "    \n",
    "    pca_cs = PCA(n_components = n_cs)\n",
    "    pca_gs = PCA(n_components = n_gs)\n",
    "\n",
    "    train_pca_gs = pca_gs.fit_transform(train[:,gs])\n",
    "    train_pca_cs = pca_cs.fit_transform(train[:,cs])\n",
    "    test_pca_gs = pca_gs.transform(test[:,gs])\n",
    "    test_pca_cs = pca_cs.transform(test[:,cs])\n",
    "\n",
    "    \n",
    "    train_c_mean = train[:,cs].mean(axis=1)\n",
    "    test_c_mean = test[:,cs].mean(axis=1)\n",
    "    train_g_mean = train[:,gs].mean(axis=1)\n",
    "    test_g_mean = test[:,gs].mean(axis=1)\n",
    "    \n",
    "    \n",
    "    train = np.concatenate((train,train_pca_gs,train_pca_cs,train_c_mean[:,np.newaxis]\n",
    "                            ,train_g_mean[:,np.newaxis]),axis=1)\n",
    "    test = np.concatenate((test,test_pca_gs,test_pca_cs,test_c_mean[:,np.newaxis],\n",
    "                           test_g_mean[:,np.newaxis]),axis=1)\n",
    "    \n",
    "    scaler = preprocessing.StandardScaler()\n",
    "\n",
    "    train = scaler.fit_transform(train)\n",
    "\n",
    "    test = scaler.transform(test)\n",
    "    \n",
    "    return train, test"
   ]
  },
  {
   "cell_type": "code",
   "execution_count": 6,
   "metadata": {
    "execution": {
     "iopub.execute_input": "2020-11-14T09:51:42.977548Z",
     "iopub.status.busy": "2020-11-14T09:51:42.975824Z",
     "iopub.status.idle": "2020-11-14T09:51:42.978224Z",
     "shell.execute_reply": "2020-11-14T09:51:42.978693Z"
    },
    "papermill": {
     "duration": 0.020205,
     "end_time": "2020-11-14T09:51:42.978802",
     "exception": false,
     "start_time": "2020-11-14T09:51:42.958597",
     "status": "completed"
    },
    "tags": []
   },
   "outputs": [],
   "source": [
    "p_min = 0.0005\n",
    "p_max = 0.9995\n",
    "\n",
    "def logloss(y_true, y_pred):\n",
    "    y_pred = tf.clip_by_value(y_pred,p_min,p_max)\n",
    "    return -backend.mean(y_true*backend.log(y_pred) + (1-y_true)*backend.log(1-y_pred))"
   ]
  },
  {
   "cell_type": "code",
   "execution_count": 7,
   "metadata": {
    "execution": {
     "iopub.execute_input": "2020-11-14T09:51:43.008988Z",
     "iopub.status.busy": "2020-11-14T09:51:43.008403Z",
     "iopub.status.idle": "2020-11-14T09:51:43.012443Z",
     "shell.execute_reply": "2020-11-14T09:51:43.011656Z"
    },
    "papermill": {
     "duration": 0.021906,
     "end_time": "2020-11-14T09:51:43.012570",
     "exception": false,
     "start_time": "2020-11-14T09:51:42.990664",
     "status": "completed"
    },
    "tags": []
   },
   "outputs": [],
   "source": [
    "reduce_lr = tf.keras.callbacks.ReduceLROnPlateau(monitor='val_logloss', factor=0.1, verbose=0,mode='min',\n",
    "                              patience=3, min_lr=1E-7)\n",
    "early_st = tf.keras.callbacks.EarlyStopping(monitor='val_logloss', min_delta=1E-5, patience=7, verbose=0, mode='min',\n",
    "    baseline=None, restore_best_weights=True)"
   ]
  },
  {
   "cell_type": "code",
   "execution_count": 8,
   "metadata": {
    "execution": {
     "iopub.execute_input": "2020-11-14T09:51:43.050374Z",
     "iopub.status.busy": "2020-11-14T09:51:43.048967Z",
     "iopub.status.idle": "2020-11-14T09:51:43.051653Z",
     "shell.execute_reply": "2020-11-14T09:51:43.052145Z"
    },
    "papermill": {
     "duration": 0.027575,
     "end_time": "2020-11-14T09:51:43.052253",
     "exception": false,
     "start_time": "2020-11-14T09:51:43.024678",
     "status": "completed"
    },
    "tags": []
   },
   "outputs": [],
   "source": [
    "def create_model1(num_columns):\n",
    "    model = tf.keras.Sequential([\n",
    "    tf.keras.layers.Input(num_columns),\n",
    "    tf.keras.layers.BatchNormalization(),\n",
    "    tf.keras.layers.Dropout(0.3),\n",
    "    tfa.layers.WeightNormalization(tf.keras.layers.Dense(512, activation=\"elu\")),\n",
    "    tf.keras.layers.BatchNormalization(),\n",
    "    tf.keras.layers.Dropout(0.3),\n",
    "    tfa.layers.WeightNormalization(tf.keras.layers.Dense(1024, activation=\"elu\")),\n",
    "    tf.keras.layers.BatchNormalization(),\n",
    "    tf.keras.layers.Dropout(0.3),\n",
    "    tfa.layers.WeightNormalization(tf.keras.layers.Dense(512, activation=\"elu\")),\n",
    "    tf.keras.layers.BatchNormalization(),\n",
    "    tf.keras.layers.Dropout(0.4),\n",
    "    tfa.layers.WeightNormalization(tf.keras.layers.Dense(2048, activation=\"elu\")),\n",
    "    tf.keras.layers.BatchNormalization(),\n",
    "    tf.keras.layers.Dropout(0.3),   \n",
    "    tfa.layers.WeightNormalization(tf.keras.layers.Dense(206, activation=\"sigmoid\"))\n",
    "    ])\n",
    "    model.compile(optimizer=tfa.optimizers.Lookahead(tf.optimizers.Adam(), sync_period=10),\n",
    "                  loss=losses.BinaryCrossentropy(label_smoothing=0.0015),metrics=logloss\n",
    "                  )\n",
    "    return model"
   ]
  },
  {
   "cell_type": "code",
   "execution_count": 9,
   "metadata": {
    "execution": {
     "iopub.execute_input": "2020-11-14T09:51:43.085482Z",
     "iopub.status.busy": "2020-11-14T09:51:43.084660Z",
     "iopub.status.idle": "2020-11-14T09:51:43.090963Z",
     "shell.execute_reply": "2020-11-14T09:51:43.090389Z"
    },
    "papermill": {
     "duration": 0.026361,
     "end_time": "2020-11-14T09:51:43.091052",
     "exception": false,
     "start_time": "2020-11-14T09:51:43.064691",
     "status": "completed"
    },
    "tags": []
   },
   "outputs": [],
   "source": [
    "def create_model(num_columns):\n",
    "    model = tf.keras.Sequential([\n",
    "    tf.keras.layers.Input(num_columns),\n",
    "    tf.keras.layers.BatchNormalization(),\n",
    "    tf.keras.layers.Dropout(0.2),\n",
    "    tfa.layers.WeightNormalization(tf.keras.layers.Dense(2048, activation=\"relu\")),\n",
    "    tf.keras.layers.BatchNormalization(),\n",
    "    tf.keras.layers.Dropout(0.2),\n",
    "    tfa.layers.WeightNormalization(tf.keras.layers.Dense(1048, activation=\"relu\")),\n",
    "    tf.keras.layers.BatchNormalization(),\n",
    "    tf.keras.layers.Dropout(0.5), \n",
    "    tfa.layers.WeightNormalization(tf.keras.layers.Dense(512, activation=\"relu\")),\n",
    "    tf.keras.layers.BatchNormalization(),\n",
    "    tf.keras.layers.Dropout(0.2),        \n",
    "    tfa.layers.WeightNormalization(tf.keras.layers.Dense(206, activation=\"sigmoid\"))\n",
    "    ])\n",
    "    model.compile(optimizer=tfa.optimizers.Lookahead(tf.optimizers.Adam(), sync_period=10),\n",
    "                  loss=losses.BinaryCrossentropy(label_smoothing=0.001),metrics=logloss\n",
    "                  )\n",
    "    return model"
   ]
  },
  {
   "cell_type": "code",
   "execution_count": 10,
   "metadata": {
    "execution": {
     "iopub.execute_input": "2020-11-14T09:51:43.128810Z",
     "iopub.status.busy": "2020-11-14T09:51:43.123613Z",
     "iopub.status.idle": "2020-11-14T10:10:56.338013Z",
     "shell.execute_reply": "2020-11-14T10:10:56.337399Z"
    },
    "papermill": {
     "duration": 1153.234705,
     "end_time": "2020-11-14T10:10:56.338175",
     "exception": false,
     "start_time": "2020-11-14T09:51:43.103470",
     "status": "completed"
    },
    "tags": []
   },
   "outputs": [
    {
     "name": "stdout",
     "output_type": "stream",
     "text": [
      "0\n",
      "OOF score is  0\n",
      "Fold 0\n",
      "OOF score is  0.000553834\n",
      "Fold 1\n",
      "OOF score is  0.00110745686\n",
      "Fold 2\n",
      "OOF score is  0.00166536542\n",
      "Fold 3\n",
      "OOF score is  0.00223458814\n",
      "Fold 4\n",
      "0\n",
      "OOF score is  0.00279783527\n",
      "Fold 0\n",
      "OOF score is  0.00333429105\n",
      "Fold 1\n",
      "OOF score is  0.00387598574\n",
      "Fold 2\n",
      "OOF score is  0.00442028511\n",
      "Fold 3\n",
      "OOF score is  0.0049613486\n",
      "Fold 4\n",
      "0\n",
      "OOF score is  0.00550365122\n",
      "Fold 0\n",
      "OOF score is  0.00603992213\n",
      "Fold 1\n",
      "OOF score is  0.00657398859\n",
      "Fold 2\n",
      "OOF score is  0.00711323321\n",
      "Fold 3\n",
      "OOF score is  0.00766387349\n",
      "Fold 4\n",
      "0\n",
      "OOF score is  0.00821010116\n",
      "Fold 0\n",
      "OOF score is  0.00876639411\n",
      "Fold 1\n",
      "OOF score is  0.00932883471\n",
      "Fold 2\n",
      "OOF score is  0.00989156589\n",
      "Fold 3\n",
      "OOF score is  0.0104560042\n",
      "Fold 4\n",
      "0\n",
      "OOF score is  0.0110136503\n",
      "Fold 0\n",
      "OOF score is  0.0115725799\n",
      "Fold 1\n",
      "OOF score is  0.0121246446\n",
      "Fold 2\n",
      "OOF score is  0.0126912668\n",
      "Fold 3\n",
      "OOF score is  0.0132550094\n",
      "Fold 4\n",
      "0\n",
      "OOF score is  0.0138172545\n",
      "Fold 0\n",
      "OOF score is  0.0143761188\n",
      "Fold 1\n",
      "OOF score is  0.0149370525\n",
      "Fold 2\n",
      "OOF score is  0.0154949203\n",
      "Fold 3\n",
      "OOF score is  0.0160602257\n",
      "Fold 4\n"
     ]
    }
   ],
   "source": [
    "X = 976\n",
    "\n",
    "from keras import backend \n",
    "n_seeds = 6\n",
    "np.random.seed(1)\n",
    "seeds = np.random.randint(0,100,size=n_seeds)\n",
    "\n",
    "n_labels = df_label.shape[1]\n",
    "n_train = df.shape[0]\n",
    "n_test = data_X_test.shape[0]\n",
    "n_folds = 5\n",
    "y_pred = np.zeros((n_test,n_labels))\n",
    "oof = tf.constant(0.0)\n",
    "hists = []\n",
    "\n",
    "\n",
    "for seed in seeds:\n",
    "    fold = 0\n",
    "    print(fold)\n",
    "    mlkf = MultilabelStratifiedKFold(n_splits=n_folds,shuffle=True,random_state=seed)\n",
    "    for n,(train, test) in enumerate(mlkf.split(df,df_label)):\n",
    "        tf.print('OOF score is ',oof)\n",
    "        print(f'Fold {n}')\n",
    "        \n",
    "        \n",
    "        train_x, validation_x = preprocessor(df.iloc[train].values,\n",
    "                                       df.iloc[test].values)\n",
    "        _,data_test = preprocessor(df.iloc[train].values,\n",
    "                                   data_X_test.drop('cp_type',axis=1).values)\n",
    "\n",
    "        train_y = df_label[train]\n",
    "        validation_y = df_label[test]\n",
    "        \n",
    "        if seed%2 == 0:\n",
    "            model = create_model1(X)\n",
    "        else:    \n",
    "            model = create_model(X)\n",
    "\n",
    "        model.compile(optimizer='adam',loss=tf.keras.losses.BinaryCrossentropy(label_smoothing=0.001), metrics=logloss )\n",
    "        \n",
    "\n",
    "        hist = model.fit(train_x,train_y, batch_size=128, epochs=200,verbose=0,validation_data = (validation_x,validation_y),callbacks =[reduce_lr, early_st])\n",
    "        hists.append(hist)\n",
    "        \n",
    "        # Save Model\n",
    "        model.save('_seed_'+str(seed)+'_fold_'+str(fold))\n",
    "\n",
    "        # OOF Score\n",
    "        y_val = model.predict(validation_x)\n",
    "        oof += logloss(tf.constant(validation_y,dtype=tf.float32),tf.constant(y_val,dtype=tf.float32))/(n_folds*n_seeds)\n",
    "\n",
    "        # Run prediction\n",
    "        y_pred += model.predict(data_test)/(n_folds*n_seeds)\n",
    "        \n",
    "        fold += 1\n",
    "        \n"
   ]
  },
  {
   "cell_type": "code",
   "execution_count": 11,
   "metadata": {
    "execution": {
     "iopub.execute_input": "2020-11-14T10:10:56.425888Z",
     "iopub.status.busy": "2020-11-14T10:10:56.424882Z",
     "iopub.status.idle": "2020-11-14T10:10:56.997024Z",
     "shell.execute_reply": "2020-11-14T10:10:56.996491Z"
    },
    "papermill": {
     "duration": 0.621759,
     "end_time": "2020-11-14T10:10:56.997150",
     "exception": false,
     "start_time": "2020-11-14T10:10:56.375391",
     "status": "completed"
    },
    "tags": []
   },
   "outputs": [
    {
     "name": "stdout",
     "output_type": "stream",
     "text": [
      "OOF score is  0.0166237075\n"
     ]
    },
    {
     "data": {
      "text/plain": [
       "<matplotlib.legend.Legend at 0x7f7a7ae87c10>"
      ]
     },
     "execution_count": 11,
     "metadata": {},
     "output_type": "execute_result"
    },
    {
     "data": {
      "image/png": "[encoded data removed]",
      "text/plain": [
       "<Figure size 864x576 with 1 Axes>"
      ]
     },
     "metadata": {
      "needs_background": "light"
     },
     "output_type": "display_data"
    }
   ],
   "source": [
    "tf.print('OOF score is ',oof)\n",
    "\n",
    "plt.figure(figsize=(12,8))\n",
    "\n",
    "hist_trains = []\n",
    "hist_lens = []\n",
    "for i in range(n_folds*n_seeds):\n",
    "    hist_train = (hists[i]).history['logloss']\n",
    "    hist_trains.append(hist_train)\n",
    "    hist_lens.append(len(hist_train))\n",
    "hist_train = []\n",
    "for i in range(min(hist_lens)):\n",
    "    hist_train.append(np.mean([hist_trains[j][i] for j in range(n_folds*n_seeds)]))\n",
    "\n",
    "plt.plot(hist_train)\n",
    "\n",
    "hist_vals = []\n",
    "hist_lens = []\n",
    "for i in range(n_folds*n_seeds):\n",
    "    hist_val = (hists[i]).history['val_logloss']\n",
    "    hist_vals.append(hist_val)\n",
    "    hist_lens.append(len(hist_val))\n",
    "hist_val = []\n",
    "for i in range(min(hist_lens)):\n",
    "    hist_val.append(np.mean([hist_vals[j][i] for j in range(n_folds*n_seeds)]))\n",
    "\n",
    "plt.plot(hist_val)\n",
    "\n",
    "plt.yscale('log')\n",
    "plt.yticks(ticks=[1,1E-1,1E-2])\n",
    "plt.xlabel('Epochs')\n",
    "plt.ylabel('Average Logloss')\n",
    "plt.legend(['Training','Validation'])"
   ]
  },
  {
   "cell_type": "code",
   "execution_count": 12,
   "metadata": {
    "execution": {
     "iopub.execute_input": "2020-11-14T10:10:57.080044Z",
     "iopub.status.busy": "2020-11-14T10:10:57.078776Z",
     "iopub.status.idle": "2020-11-14T10:10:59.849747Z",
     "shell.execute_reply": "2020-11-14T10:10:59.848887Z"
    },
    "papermill": {
     "duration": 2.814598,
     "end_time": "2020-11-14T10:10:59.849866",
     "exception": false,
     "start_time": "2020-11-14T10:10:57.035268",
     "status": "completed"
    },
    "tags": []
   },
   "outputs": [
    {
     "data": {
      "text/html": [
       "<div>\n",
       "<style scoped>\n",
       "    .dataframe tbody tr th:only-of-type {\n",
       "        vertical-align: middle;\n",
       "    }\n",
       "\n",
       "    .dataframe tbody tr th {\n",
       "        vertical-align: top;\n",
       "    }\n",
       "\n",
       "    .dataframe thead th {\n",
       "        text-align: right;\n",
       "    }\n",
       "</style>\n",
       "<table border=\"1\" class=\"dataframe\">\n",
       "  <thead>\n",
       "    <tr style=\"text-align: right;\">\n",
       "      <th></th>\n",
       "      <th>sig_id</th>\n",
       "      <th>5-alpha_reductase_inhibitor</th>\n",
       "      <th>11-beta-hsd1_inhibitor</th>\n",
       "      <th>acat_inhibitor</th>\n",
       "      <th>acetylcholine_receptor_agonist</th>\n",
       "      <th>acetylcholine_receptor_antagonist</th>\n",
       "      <th>acetylcholinesterase_inhibitor</th>\n",
       "      <th>adenosine_receptor_agonist</th>\n",
       "      <th>adenosine_receptor_antagonist</th>\n",
       "      <th>adenylyl_cyclase_activator</th>\n",
       "      <th>...</th>\n",
       "      <th>tropomyosin_receptor_kinase_inhibitor</th>\n",
       "      <th>trpv_agonist</th>\n",
       "      <th>trpv_antagonist</th>\n",
       "      <th>tubulin_inhibitor</th>\n",
       "      <th>tyrosine_kinase_inhibitor</th>\n",
       "      <th>ubiquitin_specific_protease_inhibitor</th>\n",
       "      <th>vegfr_inhibitor</th>\n",
       "      <th>vitamin_b</th>\n",
       "      <th>vitamin_d_receptor_agonist</th>\n",
       "      <th>wnt_inhibitor</th>\n",
       "    </tr>\n",
       "  </thead>\n",
       "  <tbody>\n",
       "    <tr>\n",
       "      <th>0</th>\n",
       "      <td>id_0004d9e33</td>\n",
       "      <td>0.000924</td>\n",
       "      <td>0.001539</td>\n",
       "      <td>0.001940</td>\n",
       "      <td>0.013589</td>\n",
       "      <td>0.019990</td>\n",
       "      <td>0.006709</td>\n",
       "      <td>0.002946</td>\n",
       "      <td>0.007557</td>\n",
       "      <td>0.000727</td>\n",
       "      <td>...</td>\n",
       "      <td>0.000974</td>\n",
       "      <td>0.001970</td>\n",
       "      <td>0.004295</td>\n",
       "      <td>0.001346</td>\n",
       "      <td>0.000500</td>\n",
       "      <td>0.000851</td>\n",
       "      <td>0.000897</td>\n",
       "      <td>0.002115</td>\n",
       "      <td>0.003758</td>\n",
       "      <td>0.001596</td>\n",
       "    </tr>\n",
       "    <tr>\n",
       "      <th>1</th>\n",
       "      <td>id_001897cda</td>\n",
       "      <td>0.000816</td>\n",
       "      <td>0.001919</td>\n",
       "      <td>0.002596</td>\n",
       "      <td>0.004506</td>\n",
       "      <td>0.001908</td>\n",
       "      <td>0.002381</td>\n",
       "      <td>0.005423</td>\n",
       "      <td>0.014096</td>\n",
       "      <td>0.011145</td>\n",
       "      <td>...</td>\n",
       "      <td>0.001526</td>\n",
       "      <td>0.002059</td>\n",
       "      <td>0.004608</td>\n",
       "      <td>0.000500</td>\n",
       "      <td>0.010413</td>\n",
       "      <td>0.001131</td>\n",
       "      <td>0.003740</td>\n",
       "      <td>0.001288</td>\n",
       "      <td>0.007165</td>\n",
       "      <td>0.003007</td>\n",
       "    </tr>\n",
       "    <tr>\n",
       "      <th>2</th>\n",
       "      <td>id_002429b5b</td>\n",
       "      <td>0.000000</td>\n",
       "      <td>0.000000</td>\n",
       "      <td>0.000000</td>\n",
       "      <td>0.000000</td>\n",
       "      <td>0.000000</td>\n",
       "      <td>0.000000</td>\n",
       "      <td>0.000000</td>\n",
       "      <td>0.000000</td>\n",
       "      <td>0.000000</td>\n",
       "      <td>...</td>\n",
       "      <td>0.000000</td>\n",
       "      <td>0.000000</td>\n",
       "      <td>0.000000</td>\n",
       "      <td>0.000000</td>\n",
       "      <td>0.000000</td>\n",
       "      <td>0.000000</td>\n",
       "      <td>0.000000</td>\n",
       "      <td>0.000000</td>\n",
       "      <td>0.000000</td>\n",
       "      <td>0.000000</td>\n",
       "    </tr>\n",
       "    <tr>\n",
       "      <th>3</th>\n",
       "      <td>id_00276f245</td>\n",
       "      <td>0.001407</td>\n",
       "      <td>0.001154</td>\n",
       "      <td>0.001822</td>\n",
       "      <td>0.009918</td>\n",
       "      <td>0.009919</td>\n",
       "      <td>0.004408</td>\n",
       "      <td>0.002547</td>\n",
       "      <td>0.003313</td>\n",
       "      <td>0.000825</td>\n",
       "      <td>...</td>\n",
       "      <td>0.000735</td>\n",
       "      <td>0.001670</td>\n",
       "      <td>0.002871</td>\n",
       "      <td>0.008561</td>\n",
       "      <td>0.008563</td>\n",
       "      <td>0.000894</td>\n",
       "      <td>0.001880</td>\n",
       "      <td>0.002627</td>\n",
       "      <td>0.001565</td>\n",
       "      <td>0.003220</td>\n",
       "    </tr>\n",
       "    <tr>\n",
       "      <th>4</th>\n",
       "      <td>id_0027f1083</td>\n",
       "      <td>0.002081</td>\n",
       "      <td>0.001958</td>\n",
       "      <td>0.002356</td>\n",
       "      <td>0.012263</td>\n",
       "      <td>0.020379</td>\n",
       "      <td>0.004410</td>\n",
       "      <td>0.006995</td>\n",
       "      <td>0.002492</td>\n",
       "      <td>0.000861</td>\n",
       "      <td>...</td>\n",
       "      <td>0.000998</td>\n",
       "      <td>0.001114</td>\n",
       "      <td>0.005403</td>\n",
       "      <td>0.004310</td>\n",
       "      <td>0.001425</td>\n",
       "      <td>0.000919</td>\n",
       "      <td>0.001638</td>\n",
       "      <td>0.002093</td>\n",
       "      <td>0.001077</td>\n",
       "      <td>0.001775</td>\n",
       "    </tr>\n",
       "  </tbody>\n",
       "</table>\n",
       "<p>5 rows × 207 columns</p>\n",
       "</div>"
      ],
      "text/plain": [
       "         sig_id  5-alpha_reductase_inhibitor  11-beta-hsd1_inhibitor  \\\n",
       "0  id_0004d9e33                     0.000924                0.001539   \n",
       "1  id_001897cda                     0.000816                0.001919   \n",
       "2  id_002429b5b                     0.000000                0.000000   \n",
       "3  id_00276f245                     0.001407                0.001154   \n",
       "4  id_0027f1083                     0.002081                0.001958   \n",
       "\n",
       "   acat_inhibitor  acetylcholine_receptor_agonist  \\\n",
       "0        0.001940                        0.013589   \n",
       "1        0.002596                        0.004506   \n",
       "2        0.000000                        0.000000   \n",
       "3        0.001822                        0.009918   \n",
       "4        0.002356                        0.012263   \n",
       "\n",
       "   acetylcholine_receptor_antagonist  acetylcholinesterase_inhibitor  \\\n",
       "0                           0.019990                        0.006709   \n",
       "1                           0.001908                        0.002381   \n",
       "2                           0.000000                        0.000000   \n",
       "3                           0.009919                        0.004408   \n",
       "4                           0.020379                        0.004410   \n",
       "\n",
       "   adenosine_receptor_agonist  adenosine_receptor_antagonist  \\\n",
       "0                    0.002946                       0.007557   \n",
       "1                    0.005423                       0.014096   \n",
       "2                    0.000000                       0.000000   \n",
       "3                    0.002547                       0.003313   \n",
       "4                    0.006995                       0.002492   \n",
       "\n",
       "   adenylyl_cyclase_activator  ...  tropomyosin_receptor_kinase_inhibitor  \\\n",
       "0                    0.000727  ...                               0.000974   \n",
       "1                    0.011145  ...                               0.001526   \n",
       "2                    0.000000  ...                               0.000000   \n",
       "3                    0.000825  ...                               0.000735   \n",
       "4                    0.000861  ...                               0.000998   \n",
       "\n",
       "   trpv_agonist  trpv_antagonist  tubulin_inhibitor  \\\n",
       "0      0.001970         0.004295           0.001346   \n",
       "1      0.002059         0.004608           0.000500   \n",
       "2      0.000000         0.000000           0.000000   \n",
       "3      0.001670         0.002871           0.008561   \n",
       "4      0.001114         0.005403           0.004310   \n",
       "\n",
       "   tyrosine_kinase_inhibitor  ubiquitin_specific_protease_inhibitor  \\\n",
       "0                   0.000500                               0.000851   \n",
       "1                   0.010413                               0.001131   \n",
       "2                   0.000000                               0.000000   \n",
       "3                   0.008563                               0.000894   \n",
       "4                   0.001425                               0.000919   \n",
       "\n",
       "   vegfr_inhibitor  vitamin_b  vitamin_d_receptor_agonist  wnt_inhibitor  \n",
       "0         0.000897   0.002115                    0.003758       0.001596  \n",
       "1         0.003740   0.001288                    0.007165       0.003007  \n",
       "2         0.000000   0.000000                    0.000000       0.000000  \n",
       "3         0.001880   0.002627                    0.001565       0.003220  \n",
       "4         0.001638   0.002093                    0.001077       0.001775  \n",
       "\n",
       "[5 rows x 207 columns]"
      ]
     },
     "execution_count": 12,
     "metadata": {},
     "output_type": "execute_result"
    }
   ],
   "source": [
    "\n",
    "final = pd.read_csv('/kaggle/input/lish-moa/sample_submission.csv')\n",
    "final.iloc[:,1:] = np.clip(y_pred,p_min,p_max)\n",
    "final.iloc[data_X_test['cp_type'] == 'ctl_vehicle',1:] = 0\n",
    "\n",
    "final.to_csv('submission.csv', index=False)\n",
    "final.head()"
   ]
  }
 ],
 "metadata": {
  "kernelspec": {
   "display_name": "Python 3",
   "language": "python",
   "name": "python3"
  },
  "language_info": {
   "codemirror_mode": {
    "name": "ipython",
    "version": 3
   },
   "file_extension": ".py",
   "mimetype": "text/x-python",
   "name": "python",
   "nbconvert_exporter": "python",
   "pygments_lexer": "ipython3",
   "version": "3.7.6"
  },
  "papermill": {
   "duration": 1184.280854,
   "end_time": "2020-11-14T10:11:01.127658",
   "environment_variables": {},
   "exception": null,
   "input_path": "__notebook__.ipynb",
   "output_path": "__notebook__.ipynb",
   "parameters": {},
   "start_time": "2020-11-14T09:51:16.846804",
   "version": "2.1.0"
  }
 },
 "nbformat": 4,
 "nbformat_minor": 4
}
